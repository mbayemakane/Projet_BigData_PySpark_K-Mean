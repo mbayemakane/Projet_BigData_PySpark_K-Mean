{
 "cells": [
  {
   "cell_type": "code",
   "execution_count": 2,
   "id": "a197fee5",
   "metadata": {},
   "outputs": [],
   "source": [
    "import findspark\n",
    "findspark.init()\n",
    "findspark.find()\n",
    "from pyspark.sql import SparkSession,DataFrame\n",
    "from typing import Optional\n",
    "import logging\n",
    "\n",
    "class SparkClass:\n",
    "    def __init__(self):\n",
    "        logging.info(\"Initialisation de pyspark !\")\n",
    "    \n",
    "    def createSession(self,master:Optional['str']=\"local[*]\", app_name:Optional['str']=\"Clustering K-Means avec PySpark\") -> SparkSession:\n",
    "        spark = SparkSession.builder.master(master).appName(app_name).getOrCreate()\n",
    "        print(\"Session spark démarré\")\n",
    "        return spark\n",
    "    \n",
    "    def destroySession(self,spark:SparkSession):\n",
    "        spark.stop() if isinstance(spark, SparkSession) else None"
   ]
  },
  {
   "cell_type": "code",
   "execution_count": 3,
   "id": "904e8a1c",
   "metadata": {},
   "outputs": [
    {
     "name": "stdout",
     "output_type": "stream",
     "text": [
      "Session spark démarré\n"
     ]
    }
   ],
   "source": [
    "#Démarage de la session pyspark\n",
    "classSpark = SparkClass()\n",
    "session = classSpark.createSession()"
   ]
  },
  {
   "cell_type": "code",
   "execution_count": 10,
   "id": "e57bccd3",
   "metadata": {},
   "outputs": [],
   "source": [
    "from typing import List\n",
    "import pyspark\n",
    "from pyspark.sql import SparkSession, DataFrame\n",
    "from pyspark.ml.feature import StringIndexer,VectorAssembler \n",
    "import pathlib, os, logging\n",
    "\n",
    "class Pre_Traiment:\n",
    "    \n",
    "    def __init__(self):\n",
    "        logging.info(\"Pré-traitement des données !\")\n",
    "    \n",
    "    def dataFrame(self,spark:SparkSession,filePath:str) -> DataFrame:\n",
    "        if os.path.exists(filePath) and os.path.isfile(filePath) :\n",
    "            extension = pathlib.Path(filePath).suffix\n",
    "        else: raise Exception('Erreur, essayer encore')\n",
    "        \n",
    "        def dataCSV(filePath:str) -> DataFrame:\n",
    "            df = spark.read.options(header='True', inferSchema='True', delimiter=',').csv(filePath)\n",
    "            return df\n",
    "        \n",
    "        def dataXLSX(filePath:str) -> DataFrame:\n",
    "            df = spark.read.options(header='True', inferSchema='True', delimiter=',').xlsx(filePath)\n",
    "            return df\n",
    "        \n",
    "        \n",
    "        def dataJSON(filePath:str) -> DataFrame:\n",
    "            df = spark.read.json(filePath)\n",
    "            return df\n",
    "        return dataCSV(filePath) if extension==\".csv\" else dataJSON(filePath)\n",
    "    \n",
    "    def transformation(self,df:DataFrame, cols:List['str'], output:str) -> DataFrame:\n",
    "        assemble=VectorAssembler(inputCols=cols,outputCol =output)\n",
    "        assembled_data=assemble.transform(df)\n",
    "        return assembled_data\n",
    "    "
   ]
  },
  {
   "cell_type": "code",
   "execution_count": 20,
   "id": "afff954e",
   "metadata": {},
   "outputs": [
    {
     "name": "stdout",
     "output_type": "stream",
     "text": [
      "+---+---------------+-------------+-----------------+-------------+---------+\n",
      "|age|delivery_number|delivery_time|blood_of_pressure|heart_problem|caesarian|\n",
      "+---+---------------+-------------+-----------------+-------------+---------+\n",
      "|22 |1              |0            |2                |0            |0        |\n",
      "|26 |2              |0            |1                |0            |1        |\n",
      "|26 |2              |1            |1                |0            |0        |\n",
      "|28 |1              |0            |2                |0            |0        |\n",
      "|22 |2              |0            |1                |0            |1        |\n",
      "+---+---------------+-------------+-----------------+-------------+---------+\n",
      "only showing top 5 rows\n",
      "\n",
      "+---+---------------+-------------+-----------------+-------------+---------+--------------------------+\n",
      "|age|delivery_number|delivery_time|blood_of_pressure|heart_problem|caesarian|features                  |\n",
      "+---+---------------+-------------+-----------------+-------------+---------+--------------------------+\n",
      "|22 |1              |0            |2                |0            |0        |[22.0,1.0,0.0,2.0,0.0,0.0]|\n",
      "|26 |2              |0            |1                |0            |1        |[26.0,2.0,0.0,1.0,0.0,1.0]|\n",
      "|26 |2              |1            |1                |0            |0        |[26.0,2.0,1.0,1.0,0.0,0.0]|\n",
      "|28 |1              |0            |2                |0            |0        |[28.0,1.0,0.0,2.0,0.0,0.0]|\n",
      "|22 |2              |0            |1                |0            |1        |[22.0,2.0,0.0,1.0,0.0,1.0]|\n",
      "+---+---------------+-------------+-----------------+-------------+---------+--------------------------+\n",
      "only showing top 5 rows\n",
      "\n"
     ]
    }
   ],
   "source": [
    "#Chargement et traitement des données\n",
    "#fileCSV = \"sobar-72.csv\"\n",
    "fileCSV = \"caesarian.csv\"\n",
    "#fileJSON = \"people.json\"\n",
    "dataPrep = Pre_Traiment()\n",
    "df_l = dataPrep.dataFrame(session,fileCSV)\n",
    "#Affichage des données charger\n",
    "df_l.show(5,False)\n",
    "#Récupération des noms des colonnes\n",
    "cols=df_l.columns\n",
    "#Récupération des données transformers\n",
    "data_trans=dataPrep.transformation(df_l, cols,'features')\n",
    "#Affichage des données transformer\n",
    "data_trans.show(5,False)"
   ]
  },
  {
   "cell_type": "code",
   "execution_count": 21,
   "id": "2f8ad27e",
   "metadata": {},
   "outputs": [],
   "source": [
    "from pyspark.ml.clustering import KMeans\n",
    "from pyspark.ml.evaluation import ClusteringEvaluator\n",
    "from pyspark.ml.feature import PCA as PCAml\n",
    "import matplotlib.pyplot as plt\n",
    "import numpy as np\n",
    "import pandas as pd\n",
    "import seaborn as sns\n",
    "import matplotlib.pyplot as plt\n",
    "\n",
    "\n",
    "class Traitement:\n",
    "    def __init__(self):\n",
    "        logging.info(\"Traitement des données !\")\n",
    "        \n",
    "    #Exécution la méthode silhouette.\n",
    "    def k_cluster(self,data_trans:DataFrame):# -> DataFrame:\n",
    "        kmax=0\n",
    "        best_score=0\n",
    "        silhouette_scores=[]\n",
    "        evaluator = ClusteringEvaluator(featuresCol='features', \\\n",
    "        metricName='silhouette', distanceMeasure='squaredEuclidean')\n",
    "\n",
    "        for K in range(2,11):\n",
    "            KMeans_=KMeans(featuresCol='features', k=K)\n",
    "            KMeans_fit=KMeans_.fit(data_trans)\n",
    "            KMeans_transform=KMeans_fit.transform(data_trans) \n",
    "            evaluation_score=evaluator.evaluate(KMeans_transform)\n",
    "            if best_score <= evaluation_score:\n",
    "                best_score=evaluation_score\n",
    "                kmax=K\n",
    "            silhouette_scores.append(evaluation_score)\n",
    "            \n",
    "        print('_______________________________________________________________________________________________________________________________')\n",
    "        print('Le tableau des score de silhouette est :',silhouette_scores)\n",
    "        print('Le k ideal est :',kmax)\n",
    "        print('_______________________________________________________________________________________________________________________________')\n",
    "            \n",
    "        #Trace du courbe pour déterminer k_ideal qui correspond à l'abscisse du max de la courbe\n",
    "        fig, ax = plt.subplots(1,1, figsize =(10,8))\n",
    "        ax.plot(range(2,11),silhouette_scores)\n",
    "        ax.set_xlabel('Number of Clusters')\n",
    "        ax.set_ylabel('Silhouette Score')\n",
    "        \n",
    "        return kmax\n",
    "        \n",
    "        \n",
    "    def courbe_comp_principal(self,data_trans:DataFrame,k_ideal:int) -> DataFrame:\n",
    "        #Construisons maintenant le modèle avec k_ideal clusters.\n",
    "        KMeans_=KMeans(featuresCol='features', k=k_ideal) \n",
    "        KMeans_Model=KMeans_.fit(data_trans) \n",
    "        KMeans_Assignments=KMeans_Model.transform(data_trans)\n",
    "        \"\"\"\n",
    "        Maintenant, afin de visualiser les données à 4 dimensions en 3, nous allons \n",
    "        utiliser une technique de réduction de dimensionnalité à savoir. PCA. Spark \n",
    "        a sa propre saveur de PCA.\n",
    "        Première. réaliser l'ACP. k=2 représente le nombre de composantes principales.\n",
    "        \"\"\"\n",
    "        #from pyspark.ml.feature import PCA as PCAml\n",
    "        pca = PCAml(k=2, inputCol=\"features\", outputCol=\"pca\")\n",
    "        pca_model = pca.fit(data_trans)\n",
    "        pca_transformed = pca_model.transform(data_trans)\n",
    "        \n",
    "        #Ensuite, extrayez les composants principaux\n",
    "        #import numpy as np\n",
    "        x_pca = np.array(pca_transformed.rdd.map(lambda row: row.pca).collect())\n",
    "        #Ensuite, récupérez les affectations de cluster à partir des affectations k-means.\n",
    "        affectation_cluster = np.array(KMeans_Assignments.rdd.map(lambda row: row.prediction).collect()).reshape(-1,1)\n",
    "        #Enfin, tracez les composantes principales.\n",
    "        #import pandas as pd\n",
    "        #import seaborn as sns\n",
    "        #import matplotlib.pyplot as plt\n",
    "\n",
    "        pca_data = np.hstack((x_pca,affectation_cluster))\n",
    "        pca_df = pd.DataFrame(data=pca_data, columns=(\"1st_principal\", \"2nd_principal\",\"affectation_cluster\"))\n",
    "        sns.FacetGrid(pca_df,hue=\"affectation_cluster\", height=6).map(plt.scatter, '1st_principal', '2nd_principal' ).add_legend()\n",
    "        plt.show()\n",
    "       "
   ]
  },
  {
   "cell_type": "code",
   "execution_count": 22,
   "id": "1a6ddb4a",
   "metadata": {},
   "outputs": [
    {
     "name": "stdout",
     "output_type": "stream",
     "text": [
      "_______________________________________________________________________________________________________________________________\n",
      "Le tableau des score de silhouette est : [0.6571186060836547, 0.5159752337299421, 0.6519130006732519, 0.5626526952937894, 0.5331116452611739, 0.456296187147131, 0.4174697692654997, 0.41785014537395, 0.3537995024094336]\n",
      "Le k ideal est : 2\n",
      "_______________________________________________________________________________________________________________________________\n"
     ]
    },
    {
     "data": {
      "text/plain": [
       "2"
      ]
     },
     "execution_count": 22,
     "metadata": {},
     "output_type": "execute_result"
    },
    {
     "data": {
      "image/png": "[encoded data removed]",
      "text/plain": [
       "<Figure size 720x576 with 1 Axes>"
      ]
     },
     "metadata": {
      "needs_background": "light"
     },
     "output_type": "display_data"
    }
   ],
   "source": [
    "#Class traitement de données\n",
    "rt=Traitement()\n",
    "#Appel de la méthode k_cluster pour faire un évaluation du model et déterminer le meilleur k pour entraimer le model\n",
    "#Et trace la courbe des scores\n",
    "kmax=rt.k_cluster(data_trans)\n",
    "kmax"
   ]
  },
  {
   "cell_type": "code",
   "execution_count": 23,
   "id": "b03b7d93",
   "metadata": {},
   "outputs": [
    {
     "data": {
      "image/png": "[encoded data removed]",
      "text/plain": [
       "<Figure size 533.25x432 with 1 Axes>"
      ]
     },
     "metadata": {
      "needs_background": "light"
     },
     "output_type": "display_data"
    }
   ],
   "source": [
    "#Affichage de la courbe des composants principal\n",
    "rt.courbe_comp_principal(data_trans,kmax)"
   ]
  },
  {
   "cell_type": "code",
   "execution_count": null,
   "id": "da14fbee",
   "metadata": {},
   "outputs": [],
   "source": []
  }
 ],
 "metadata": {
  "kernelspec": {
   "display_name": "bigdata",
   "language": "python",
   "name": "bigdata"
  },
  "language_info": {
   "codemirror_mode": {
    "name": "ipython",
    "version": 3
   },
   "file_extension": ".py",
   "mimetype": "text/x-python",
   "name": "python",
   "nbconvert_exporter": "python",
   "pygments_lexer": "ipython3",
   "version": "3.7.13"
  }
 },
 "nbformat": 4,
 "nbformat_minor": 5
}
