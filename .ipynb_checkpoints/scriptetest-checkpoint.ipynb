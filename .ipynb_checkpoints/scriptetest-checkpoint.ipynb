{
 "cells": [
  {
   "cell_type": "code",
   "execution_count": null,
   "id": "b6e2fce3",
   "metadata": {},
   "outputs": [],
   "source": [
    "import findspark\n",
    "findspark.init()\n",
    "findspark.find()\n",
    "\n",
    "# Import PySpark\n",
    "from pyspark.sql import SparkSession\n",
    "\n",
    "#Create SparkSession\n",
    "spark = SparkSession.builder.appName('SparkByExamples.com').getOrCreate()\n",
    "#spark"
   ]
  },
  {
   "cell_type": "code",
   "execution_count": 2,
   "id": "d26645a7",
   "metadata": {},
   "outputs": [],
   "source": [
    "import numpy as np\n",
    "import pandas as pd"
   ]
  },
  {
   "cell_type": "code",
   "execution_count": 4,
   "id": "07d42bd3",
   "metadata": {},
   "outputs": [],
   "source": [
    "datacancer=spark.read.csv(\"sobar-72.csv\",inferSchema=True, header=True)"
   ]
  },
  {
   "cell_type": "code",
   "execution_count": 5,
   "id": "7a048276",
   "metadata": {},
   "outputs": [
    {
     "name": "stdout",
     "output_type": "stream",
     "text": [
      "+-------------------+---------------+-----------------------+---------------------+--------------------+--------------------+--------------------+----------------------+----------------+------------------------+-------------------+-------------------+----------------------+--------------------------+--------------------------+--------------------------+---------------------+---------------------+-------------------+---------+\n",
      "|behavior_sexualRisk|behavior_eating|behavior_personalHygine|intention_aggregation|intention_commitment|attitude_consistency|attitude_spontaneity|norm_significantPerson|norm_fulfillment|perception_vulnerability|perception_severity|motivation_strength|motivation_willingness|socialSupport_emotionality|socialSupport_appreciation|socialSupport_instrumental|empowerment_knowledge|empowerment_abilities|empowerment_desires|ca_cervix|\n",
      "+-------------------+---------------+-----------------------+---------------------+--------------------+--------------------+--------------------+----------------------+----------------+------------------------+-------------------+-------------------+----------------------+--------------------------+--------------------------+--------------------------+---------------------+---------------------+-------------------+---------+\n",
      "|                 10|             13|                     12|                    4|                   7|                   9|                  10|                     1|               8|                       7|                  3|                 14|                     8|                         5|                         7|                        12|                   12|                   11|                  8|        1|\n",
      "|                 10|             11|                     11|                   10|                  14|                   7|                   7|                     5|               5|                       4|                  2|                 15|                    13|                         7|                         6|                         5|                    5|                    4|                  4|        1|\n",
      "|                 10|             15|                      3|                    2|                  14|                   8|                  10|                     1|               4|                       7|                  2|                  7|                     3|                         3|                         6|                        11|                    3|                    3|                 15|        1|\n",
      "|                 10|             11|                     10|                   10|                  15|                   7|                   7|                     1|               5|                       4|                  2|                 15|                    13|                         7|                         4|                         4|                    4|                    4|                  4|        1|\n",
      "|                  8|             11|                      7|                    8|                  10|                   7|                   8|                     1|               5|                       3|                  2|                 15|                     5|                         3|                         6|                        12|                    5|                    4|                  7|        1|\n",
      "|                 10|             14|                      8|                    6|                  15|                   8|                  10|                     1|               3|                       4|                  2|                 14|                     8|                         7|                         2|                         7|                   13|                    9|                  6|        1|\n",
      "|                 10|             15|                      4|                    6|                  14|                   6|                  10|                     5|               3|                       7|                  2|                  7|                    13|                         3|                         3|                        15|                    3|                    3|                  5|        1|\n",
      "|                  8|             12|                      9|                   10|                  10|                   5|                  10|                     5|               5|                       5|                  2|                 10|                     9|                        13|                         2|                         9|                    8|                    7|                 12|        1|\n",
      "|                 10|             15|                      7|                    2|                  15|                   6|                  10|                     1|               3|                       5|                  2|                  9|                    15|                        13|                        10|                        15|                   13|                   15|                 15|        1|\n",
      "|                  7|             15|                      7|                    6|                  11|                   8|                   8|                     5|               3|                       3|                  4|                 15|                     3|                         8|                         2|                         9|                    3|                    4|                  4|        1|\n",
      "|                  7|             15|                      7|                   10|                  14|                   7|                   9|                     1|               3|                       8|                  2|                  4|                     3|                         7|                         9|                        13|                    8|                    3|                  9|        1|\n",
      "|                 10|             15|                      8|                    9|                  15|                   7|                  10|                     1|               3|                       7|                  2|                 15|                     3|                         3|                         6|                        13|                    7|                    5|                  9|        1|\n",
      "|                 10|             15|                     12|                   10|                  15|                   6|                  10|                     1|               3|                       3|                  2|                  4|                     3|                         3|                         2|                        15|                   13|                    6|                 11|        1|\n",
      "|                  9|             12|                     14|                    9|                  15|                  10|                   9|                     3|               6|                       3|                  2|                 15|                    15|                         3|                        10|                        15|                   11|                    3|                 11|        1|\n",
      "|                  2|             15|                     15|                    6|                  13|                   8|                   9|                     1|               3|                       3|                  4|                 15|                     3|                         7|                         6|                         7|                    7|                    7|                  3|        1|\n",
      "|                 10|             15|                      7|                    6|                  14|                   8|                   8|                     4|               8|                      10|                  2|                  3|                     3|                         3|                         2|                         5|                    5|                    5|                  3|        1|\n",
      "|                 10|             15|                      9|                    7|                   6|                   8|                   8|                     1|              12|                       5|                  4|                  5|                     4|                         3|                         3|                         5|                    7|                    7|                  3|        1|\n",
      "|                 10|             12|                      7|                    5|                  10|                   8|                   8|                     1|               8|                      10|                  4|                  6|                     3|                         3|                         2|                         4|                    4|                    3|                  5|        1|\n",
      "|                 10|             11|                     12|                    2|                  10|                   8|                   8|                     2|              10|                       8|                  7|                  6|                     5|                         3|                         2|                         4|                    4|                    4|                  3|        1|\n",
      "|                 10|             12|                     12|                    8|                  10|                   8|                   6|                     2|               7|                       6|                  2|                 12|                    11|                         9|                         8|                        12|                   10|                   10|                  9|        1|\n",
      "+-------------------+---------------+-----------------------+---------------------+--------------------+--------------------+--------------------+----------------------+----------------+------------------------+-------------------+-------------------+----------------------+--------------------------+--------------------------+--------------------------+---------------------+---------------------+-------------------+---------+\n",
      "only showing top 20 rows\n",
      "\n"
     ]
    }
   ],
   "source": [
    "datacancer.show()"
   ]
  },
  {
   "cell_type": "code",
   "execution_count": 6,
   "id": "4d6b5394",
   "metadata": {},
   "outputs": [
    {
     "data": {
      "text/plain": [
       "72"
      ]
     },
     "execution_count": 6,
     "metadata": {},
     "output_type": "execute_result"
    }
   ],
   "source": [
    "datacancer.count()"
   ]
  },
  {
   "cell_type": "code",
   "execution_count": 7,
   "id": "ff488d00",
   "metadata": {},
   "outputs": [
    {
     "data": {
      "text/plain": [
       "20"
      ]
     },
     "execution_count": 7,
     "metadata": {},
     "output_type": "execute_result"
    }
   ],
   "source": [
    "len(datacancer.columns)"
   ]
  },
  {
   "cell_type": "code",
   "execution_count": 8,
   "id": "df156608",
   "metadata": {},
   "outputs": [
    {
     "name": "stdout",
     "output_type": "stream",
     "text": [
      "root\n",
      " |-- behavior_sexualRisk: integer (nullable = true)\n",
      " |-- behavior_eating: integer (nullable = true)\n",
      " |-- behavior_personalHygine: integer (nullable = true)\n",
      " |-- intention_aggregation: integer (nullable = true)\n",
      " |-- intention_commitment: integer (nullable = true)\n",
      " |-- attitude_consistency: integer (nullable = true)\n",
      " |-- attitude_spontaneity: integer (nullable = true)\n",
      " |-- norm_significantPerson: integer (nullable = true)\n",
      " |-- norm_fulfillment: integer (nullable = true)\n",
      " |-- perception_vulnerability: integer (nullable = true)\n",
      " |-- perception_severity: integer (nullable = true)\n",
      " |-- motivation_strength: integer (nullable = true)\n",
      " |-- motivation_willingness: integer (nullable = true)\n",
      " |-- socialSupport_emotionality: integer (nullable = true)\n",
      " |-- socialSupport_appreciation: integer (nullable = true)\n",
      " |-- socialSupport_instrumental: integer (nullable = true)\n",
      " |-- empowerment_knowledge: integer (nullable = true)\n",
      " |-- empowerment_abilities: integer (nullable = true)\n",
      " |-- empowerment_desires: integer (nullable = true)\n",
      " |-- ca_cervix: integer (nullable = true)\n",
      "\n"
     ]
    }
   ],
   "source": [
    "datacancer.printSchema()"
   ]
  },
  {
   "cell_type": "code",
   "execution_count": 9,
   "id": "5dbcb89e",
   "metadata": {},
   "outputs": [
    {
     "name": "stdout",
     "output_type": "stream",
     "text": [
      "+-------+-------------------+------------------+-----------------------+---------------------+--------------------+--------------------+--------------------+----------------------+-----------------+------------------------+-------------------+-------------------+----------------------+--------------------------+--------------------------+--------------------------+---------------------+---------------------+-------------------+-------------------+\n",
      "|summary|behavior_sexualRisk|   behavior_eating|behavior_personalHygine|intention_aggregation|intention_commitment|attitude_consistency|attitude_spontaneity|norm_significantPerson| norm_fulfillment|perception_vulnerability|perception_severity|motivation_strength|motivation_willingness|socialSupport_emotionality|socialSupport_appreciation|socialSupport_instrumental|empowerment_knowledge|empowerment_abilities|empowerment_desires|          ca_cervix|\n",
      "+-------+-------------------+------------------+-----------------------+---------------------+--------------------+--------------------+--------------------+----------------------+-----------------+------------------------+-------------------+-------------------+----------------------+--------------------------+--------------------------+--------------------------+---------------------+---------------------+-------------------+-------------------+\n",
      "|  count|                 72|                72|                     72|                   72|                  72|                  72|                  72|                    72|               72|                      72|                 72|                 72|                    72|                        72|                        72|                        72|                   72|                   72|                 72|                 72|\n",
      "|   mean|  9.666666666666666|12.791666666666666|     11.083333333333334|    7.902777777777778|  13.347222222222221|   7.180555555555555|    8.61111111111111|                 3.125| 8.48611111111111|        8.51388888888889|  5.388888888888889| 12.652777777777779|     9.694444444444445|         8.097222222222221|         6.166666666666667|                    10.375|   10.541666666666666|    9.319444444444445| 10.277777777777779| 0.2916666666666667|\n",
      "| stddev| 1.1867816581938526|2.3612929139249355|       3.03384662633309|   2.7381484554359465|  2.3745109042556094|  1.5228437898017364|  1.5156977248495958|    1.8457221190756403|4.907576940211956|       4.275686438771171| 3.4007271614931214| 3.2072089670572543|     4.130405596456152|         4.243170891859929|        2.8973032628951882|         4.316484941885135|    4.366767909086878|    4.181873658139944|  4.482272506570879|0.45771939248137733|\n",
      "|    min|                  2|                 3|                      3|                    2|                   6|                   2|                   4|                     1|                3|                       3|                  2|                  3|                     3|                         3|                         2|                         3|                    3|                    3|                  3|                  0|\n",
      "|    max|                 10|                15|                     15|                   10|                  15|                  10|                  10|                     5|               15|                      15|                 10|                 15|                    15|                        15|                        10|                        15|                   15|                   15|                 15|                  1|\n",
      "+-------+-------------------+------------------+-----------------------+---------------------+--------------------+--------------------+--------------------+----------------------+-----------------+------------------------+-------------------+-------------------+----------------------+--------------------------+--------------------------+--------------------------+---------------------+---------------------+-------------------+-------------------+\n",
      "\n"
     ]
    }
   ],
   "source": [
    " datacancer.describe().show()"
   ]
  },
  {
   "cell_type": "code",
   "execution_count": 10,
   "id": "35a99e37",
   "metadata": {},
   "outputs": [
    {
     "data": {
      "text/plain": [
       "[Row(behavior_sexualRisk=10, behavior_eating=13, behavior_personalHygine=12, intention_aggregation=4, intention_commitment=7, attitude_consistency=9, attitude_spontaneity=10, norm_significantPerson=1, norm_fulfillment=8, perception_vulnerability=7, perception_severity=3, motivation_strength=14, motivation_willingness=8, socialSupport_emotionality=5, socialSupport_appreciation=7, socialSupport_instrumental=12, empowerment_knowledge=12, empowerment_abilities=11, empowerment_desires=8, ca_cervix=1),\n",
       " Row(behavior_sexualRisk=10, behavior_eating=11, behavior_personalHygine=11, intention_aggregation=10, intention_commitment=14, attitude_consistency=7, attitude_spontaneity=7, norm_significantPerson=5, norm_fulfillment=5, perception_vulnerability=4, perception_severity=2, motivation_strength=15, motivation_willingness=13, socialSupport_emotionality=7, socialSupport_appreciation=6, socialSupport_instrumental=5, empowerment_knowledge=5, empowerment_abilities=4, empowerment_desires=4, ca_cervix=1),\n",
       " Row(behavior_sexualRisk=10, behavior_eating=15, behavior_personalHygine=3, intention_aggregation=2, intention_commitment=14, attitude_consistency=8, attitude_spontaneity=10, norm_significantPerson=1, norm_fulfillment=4, perception_vulnerability=7, perception_severity=2, motivation_strength=7, motivation_willingness=3, socialSupport_emotionality=3, socialSupport_appreciation=6, socialSupport_instrumental=11, empowerment_knowledge=3, empowerment_abilities=3, empowerment_desires=15, ca_cervix=1),\n",
       " Row(behavior_sexualRisk=10, behavior_eating=11, behavior_personalHygine=10, intention_aggregation=10, intention_commitment=15, attitude_consistency=7, attitude_spontaneity=7, norm_significantPerson=1, norm_fulfillment=5, perception_vulnerability=4, perception_severity=2, motivation_strength=15, motivation_willingness=13, socialSupport_emotionality=7, socialSupport_appreciation=4, socialSupport_instrumental=4, empowerment_knowledge=4, empowerment_abilities=4, empowerment_desires=4, ca_cervix=1),\n",
       " Row(behavior_sexualRisk=8, behavior_eating=11, behavior_personalHygine=7, intention_aggregation=8, intention_commitment=10, attitude_consistency=7, attitude_spontaneity=8, norm_significantPerson=1, norm_fulfillment=5, perception_vulnerability=3, perception_severity=2, motivation_strength=15, motivation_willingness=5, socialSupport_emotionality=3, socialSupport_appreciation=6, socialSupport_instrumental=12, empowerment_knowledge=5, empowerment_abilities=4, empowerment_desires=7, ca_cervix=1)]"
      ]
     },
     "execution_count": 10,
     "metadata": {},
     "output_type": "execute_result"
    }
   ],
   "source": [
    "datacancer.head(5)"
   ]
  },
  {
   "cell_type": "code",
   "execution_count": 12,
   "id": "66eec219",
   "metadata": {},
   "outputs": [
    {
     "name": "stdout",
     "output_type": "stream",
     "text": [
      "+-------------------+-----+\n",
      "|perception_severity|count|\n",
      "+-------------------+-----+\n",
      "|                  6|    3|\n",
      "|                  3|    3|\n",
      "|                  9|    4|\n",
      "|                  4|    7|\n",
      "|                  8|    9|\n",
      "|                  7|    1|\n",
      "|                 10|   16|\n",
      "|                  2|   29|\n",
      "+-------------------+-----+\n",
      "\n"
     ]
    }
   ],
   "source": [
    "datacancer.groupBy(\"perception_severity\").count().show()"
   ]
  },
  {
   "cell_type": "code",
   "execution_count": null,
   "id": "b004f05e",
   "metadata": {},
   "outputs": [],
   "source": [
    "from pyspark.ml.linalg import Vector\n",
    "from pyspark.ml.feature import VectorAssembler"
   ]
  },
  {
   "cell_type": "code",
   "execution_count": 13,
   "id": "8d2ce309",
   "metadata": {},
   "outputs": [
    {
     "data": {
      "text/plain": [
       "['behavior_sexualRisk',\n",
       " 'behavior_eating',\n",
       " 'behavior_personalHygine',\n",
       " 'intention_aggregation',\n",
       " 'intention_commitment',\n",
       " 'attitude_consistency',\n",
       " 'attitude_spontaneity',\n",
       " 'norm_significantPerson',\n",
       " 'norm_fulfillment',\n",
       " 'perception_vulnerability',\n",
       " 'perception_severity',\n",
       " 'motivation_strength',\n",
       " 'motivation_willingness',\n",
       " 'socialSupport_emotionality',\n",
       " 'socialSupport_appreciation',\n",
       " 'socialSupport_instrumental',\n",
       " 'empowerment_knowledge',\n",
       " 'empowerment_abilities',\n",
       " 'empowerment_desires',\n",
       " 'ca_cervix']"
      ]
     },
     "execution_count": 13,
     "metadata": {},
     "output_type": "execute_result"
    }
   ],
   "source": [
    "datacancer.columns"
   ]
  },
  {
   "cell_type": "code",
   "execution_count": 1,
   "id": "f8f94b95",
   "metadata": {},
   "outputs": [
    {
     "ename": "NameError",
     "evalue": "name 'KMeans' is not defined",
     "output_type": "error",
     "traceback": [
      "\u001b[1;31m---------------------------------------------------------------------------\u001b[0m",
      "\u001b[1;31mNameError\u001b[0m                                 Traceback (most recent call last)",
      "\u001b[1;32m~\\AppData\\Local\\Temp\\ipykernel_9900\\686153143.py\u001b[0m in \u001b[0;36m<module>\u001b[1;34m\u001b[0m\n\u001b[0;32m     17\u001b[0m \u001b[0mdf\u001b[0m\u001b[1;33m=\u001b[0m\u001b[0mspark\u001b[0m\u001b[1;33m.\u001b[0m\u001b[0mread\u001b[0m\u001b[1;33m.\u001b[0m\u001b[0mcsv\u001b[0m\u001b[1;33m(\u001b[0m\u001b[1;34m\"sobar-72.csv\"\u001b[0m\u001b[1;33m,\u001b[0m\u001b[0minferSchema\u001b[0m\u001b[1;33m=\u001b[0m\u001b[1;32mTrue\u001b[0m\u001b[1;33m,\u001b[0m \u001b[0mheader\u001b[0m\u001b[1;33m=\u001b[0m\u001b[1;32mTrue\u001b[0m\u001b[1;33m)\u001b[0m\u001b[1;33m\u001b[0m\u001b[1;33m\u001b[0m\u001b[0m\n\u001b[0;32m     18\u001b[0m \u001b[1;33m\u001b[0m\u001b[0m\n\u001b[1;32m---> 19\u001b[1;33m \u001b[0mkmeans\u001b[0m \u001b[1;33m=\u001b[0m \u001b[0mKMeans\u001b[0m\u001b[1;33m(\u001b[0m\u001b[0mk\u001b[0m\u001b[1;33m=\u001b[0m\u001b[1;36m2\u001b[0m\u001b[1;33m)\u001b[0m\u001b[1;33m\u001b[0m\u001b[1;33m\u001b[0m\u001b[0m\n\u001b[0m\u001b[0;32m     20\u001b[0m \u001b[0mkmeans\u001b[0m\u001b[1;33m.\u001b[0m\u001b[0msetSeed\u001b[0m\u001b[1;33m(\u001b[0m\u001b[1;36m1\u001b[0m\u001b[1;33m)\u001b[0m\u001b[1;33m\u001b[0m\u001b[1;33m\u001b[0m\u001b[0m\n\u001b[0;32m     21\u001b[0m \u001b[1;33m\u001b[0m\u001b[0m\n",
      "\u001b[1;31mNameError\u001b[0m: name 'KMeans' is not defined"
     ]
    }
   ],
   "source": [
    "#from pyspark.ml.linalg import Vector\n",
    "\n",
    "import findspark\n",
    "findspark.init()\n",
    "findspark.find()\n",
    "from pyspark.sql import SparkSession\n",
    "\n",
    "spark = SparkSession.builder.appName('SparkByExamples.com').getOrCreate()\n",
    "\n",
    "from pyspark.ml.linalg import Vector\n",
    "from pyspark.ml.feature import VectorAssembler\n",
    "\n",
    "#data = [(Vectors.dense([0.0, 0.0]), 2.0), (Vectors.dense([1.0, 1.0]), 2.0),\n",
    "#        (Vectors.dense([9.0, 8.0]), 2.0), (Vectors.dense([8.0, 9.0]), 2.0)]\n",
    "#df = spark.createDataFrame(data, [\"features\", \"weighCol\"])\n",
    "\n",
    "df=spark.read.csv(\"sobar-72.csv\",inferSchema=True, header=True)\n",
    "\n",
    "kmeans = KMeans(k=2)\n",
    "kmeans.setSeed(1)\n",
    "\n",
    "kmeans.setWeightCol(\"weighCol\")\n",
    "\n",
    "kmeans.setMaxIter(10)\n",
    "\n",
    "#Obtient la valeur de maxIter ou sa valeur par défaut(getMaxIter()).\n",
    "kmeans.getMaxIter()\n",
    "\n",
    "#Efface un paramètre de la carte de paramètre s’il a été explicitement défini(clear(param).\n",
    "kmeans.clear(kmeans.maxIter)\n",
    "model = kmeans.fit(df)\n",
    "#Obtient la valeur de distanceMeasure ou sa valeur par défaut.\n",
    "model.getDistanceMeasure()\n",
    "\n",
    "model.setPredictionCol(\"newPrediction\")\n",
    "\n",
    "model.predict(df.head().features)\n",
    "\n",
    "#Obtenez les centres de cluster, représentés sous la forme d’une \n",
    "#liste de tableaux NumPy(clusterCenters()).\n",
    "centers = model.clusterCenters()\n",
    "len(centers)\n",
    "\n",
    "transformed = model.transform(df).select(\"features\", \"newPrediction\")\n",
    "rows = transformed.collect()\n",
    "rows[0].newPrediction == rows[1].newPrediction\n",
    "\n",
    "rows[2].newPrediction == rows[3].newPrediction\n",
    "\n",
    "model.hasSummary\n",
    "\n",
    "summary = model.summary\n",
    "summary.k\n",
    "\n",
    "summary.clusterSizes\n",
    "\n",
    "summary.trainingCost\n",
    "\n",
    "kmeans_path = temp_path + \"/kmeans\"\n",
    "kmeans.save(kmeans_path)\n",
    "kmeans2 = KMeans.load(kmeans_path)\n",
    "#Obtient la valeur de k\n",
    "kmeans2.getK()\n",
    "\n",
    "model_path = temp_path + \"/kmeans_model\"\n",
    "model.save(model_path)\n",
    "model2 = KMeansModel.load(model_path)\n",
    "model2.hasSummary\n",
    "\n",
    "model.clusterCenters()[0] == model2.clusterCenters()[0]\n",
    "\n",
    "model.clusterCenters()[1] == model2.clusterCenters()[1]\n",
    "\n",
    "model.transform(df).take(1) == model2.transform(df).take(1)"
   ]
  },
  {
   "cell_type": "code",
   "execution_count": null,
   "id": "aa225add",
   "metadata": {},
   "outputs": [],
   "source": []
  }
 ],
 "metadata": {
  "kernelspec": {
   "display_name": "bigdata",
   "language": "python",
   "name": "bigdata"
  },
  "language_info": {
   "codemirror_mode": {
    "name": "ipython",
    "version": 3
   },
   "file_extension": ".py",
   "mimetype": "text/x-python",
   "name": "python",
   "nbconvert_exporter": "python",
   "pygments_lexer": "ipython3",
   "version": "3.7.12"
  }
 },
 "nbformat": 4,
 "nbformat_minor": 5
}
