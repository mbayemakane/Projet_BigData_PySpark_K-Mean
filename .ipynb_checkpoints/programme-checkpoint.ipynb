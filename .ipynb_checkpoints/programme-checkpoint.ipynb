{
 "cells": [
  {
   "cell_type": "code",
   "execution_count": 2,
   "id": "03425cea",
   "metadata": {},
   "outputs": [],
   "source": [
    "import findspark\n",
    "findspark.init()\n",
    "findspark.find()\n",
    "\n",
    "# Import PySpark\n",
    "from pyspark.sql import SparkSession\n",
    "\n",
    "#Create SparkSession\n",
    "spark = SparkSession.builder.appName('SparkByExamples.com').getOrCreate()\n",
    "#spark"
   ]
  },
  {
   "cell_type": "code",
   "execution_count": 3,
   "id": "1f6dad43",
   "metadata": {},
   "outputs": [],
   "source": [
    "import numpy as np\n",
    "import pandas as pd\n",
    "from pyspark.ml.linalg import Vector\n",
    "from pyspark.ml.feature import VectorAssembler\n",
    "\n",
    "df=spark.read.csv(\"caesarian.csv\",inferSchema=True, header=True)\n",
    "#df = spark.read.format('com.databricks.spark.csv').options(header='true',inferschema='true').load(\"caesarian.csv\",header=True);"
   ]
  },
  {
   "cell_type": "code",
   "execution_count": 4,
   "id": "57b486fb",
   "metadata": {},
   "outputs": [
    {
     "name": "stdout",
     "output_type": "stream",
     "text": [
      "+---+---------------+-------------+-----------------+-------------+---------+\n",
      "|age|delivery_number|delivery_time|blood_of_pressure|heart_problem|caesarian|\n",
      "+---+---------------+-------------+-----------------+-------------+---------+\n",
      "| 22|              1|            0|                2|            0|        0|\n",
      "| 26|              2|            0|                1|            0|        1|\n",
      "| 26|              2|            1|                1|            0|        0|\n",
      "| 28|              1|            0|                2|            0|        0|\n",
      "| 22|              2|            0|                1|            0|        1|\n",
      "+---+---------------+-------------+-----------------+-------------+---------+\n",
      "only showing top 5 rows\n",
      "\n"
     ]
    }
   ],
   "source": [
    "#Afficher les cinq premier élément \n",
    "df.show(5,True)"
   ]
  },
  {
   "cell_type": "code",
   "execution_count": 5,
   "id": "07482324",
   "metadata": {},
   "outputs": [
    {
     "name": "stdout",
     "output_type": "stream",
     "text": [
      "+----------------------+\n",
      "|features              |\n",
      "+----------------------+\n",
      "|[22.0,1.0,0.0,2.0,0.0]|\n",
      "|[26.0,2.0,0.0,1.0,0.0]|\n",
      "|[26.0,2.0,1.0,1.0,0.0]|\n",
      "|[28.0,1.0,0.0,2.0,0.0]|\n",
      "|[22.0,2.0,0.0,1.0,0.0]|\n",
      "+----------------------+\n",
      "only showing top 5 rows\n",
      "\n"
     ]
    }
   ],
   "source": [
    "# convert the data to dense vector\n",
    "from pyspark.mllib.linalg import Vectors\n",
    "def transData(data):\n",
    "    return data.rdd.map(lambda r: [Vectors.dense(r[:-1])]).toDF(['features'])\n",
    "transformed= transData(df)\n",
    "transformed.show(5, False)"
   ]
  },
  {
   "cell_type": "code",
   "execution_count": 5,
   "id": "993b813d",
   "metadata": {},
   "outputs": [],
   "source": [
    "from pyspark.ml.feature import VectorAssembler\n",
    "assemble=VectorAssembler(inputCols=[\n",
    "'age',\n",
    "'delivery_number',\n",
    "'delivery_time',\n",
    "'blood_of_pressure',\n",
    "'heart_problem',\n",
    "'caesarian'],outputCol = 'caesarian_features')\n",
    "\n",
    "assembled_data=assemble.transform(df)"
   ]
  },
  {
   "cell_type": "code",
   "execution_count": 7,
   "id": "62e155a4",
   "metadata": {},
   "outputs": [
    {
     "name": "stdout",
     "output_type": "stream",
     "text": [
      "+---+---------------+-------------+-----------------+-------------+---------+--------------------+\n",
      "|age|delivery_number|delivery_time|blood_of_pressure|heart_problem|caesarian|  caesarian_features|\n",
      "+---+---------------+-------------+-----------------+-------------+---------+--------------------+\n",
      "| 22|              1|            0|                2|            0|        0|[22.0,1.0,0.0,2.0...|\n",
      "| 26|              2|            0|                1|            0|        1|[26.0,2.0,0.0,1.0...|\n",
      "| 26|              2|            1|                1|            0|        0|[26.0,2.0,1.0,1.0...|\n",
      "| 28|              1|            0|                2|            0|        0|[28.0,1.0,0.0,2.0...|\n",
      "| 22|              2|            0|                1|            0|        1|[22.0,2.0,0.0,1.0...|\n",
      "| 26|              1|            1|                0|            0|        0|[26.0,1.0,1.0,0.0...|\n",
      "| 27|              2|            0|                1|            0|        0|[27.0,2.0,0.0,1.0...|\n",
      "| 32|              3|            0|                1|            0|        1|[32.0,3.0,0.0,1.0...|\n",
      "| 28|              2|            0|                1|            0|        0|[28.0,2.0,0.0,1.0...|\n",
      "| 27|              1|            1|                1|            0|        1|[27.0,1.0,1.0,1.0...|\n",
      "| 36|              1|            0|                1|            0|        0|[36.0,1.0,0.0,1.0...|\n",
      "| 33|              1|            1|                0|            0|        1|[33.0,1.0,1.0,0.0...|\n",
      "| 23|              1|            1|                1|            0|        0|[23.0,1.0,1.0,1.0...|\n",
      "| 20|              1|            0|                1|            1|        0|[20.0,1.0,0.0,1.0...|\n",
      "| 29|              1|            2|                0|            1|        1|[29.0,1.0,2.0,0.0...|\n",
      "| 25|              1|            2|                0|            0|        0|[25.0,1.0,2.0,0.0...|\n",
      "| 25|              1|            0|                1|            0|        0|[25.0,1.0,0.0,1.0...|\n",
      "| 20|              1|            2|                2|            0|        1|[20.0,1.0,2.0,2.0...|\n",
      "| 37|              3|            0|                1|            1|        1|[37.0,3.0,0.0,1.0...|\n",
      "| 24|              1|            2|                0|            1|        1|[24.0,1.0,2.0,0.0...|\n",
      "+---+---------------+-------------+-----------------+-------------+---------+--------------------+\n",
      "only showing top 20 rows\n",
      "\n"
     ]
    }
   ],
   "source": [
    "assembled_data.show()"
   ]
  },
  {
   "cell_type": "code",
   "execution_count": 9,
   "id": "e6fe8522",
   "metadata": {},
   "outputs": [],
   "source": [
    "from pyspark.ml.clustering import KMeans\n",
    "from pyspark.ml.evaluation import ClusteringEvaluator\n",
    "\n",
    "silhouette_scores=[]\n",
    "evaluator = ClusteringEvaluator(featuresCol='caesarian_features',metricName='silhouette', distanceMeasure='squaredEuclidean')\n",
    "\n",
    "for K in range(2,11):\n",
    "\n",
    "    KMeans_=KMeans(featuresCol='caesarian_features', k=K)\n",
    "\n",
    "    KMeans_fit=KMeans_.fit(assembled_data)\n",
    "\n",
    "    KMeans_transform=KMeans_fit.transform(assembled_data) \n",
    "\n",
    "    evaluation_score=evaluator.evaluate(KMeans_transform)\n",
    "\n",
    "    silhouette_scores.append(evaluation_score)"
   ]
  },
  {
   "cell_type": "code",
   "execution_count": 10,
   "id": "c6feb01f",
   "metadata": {},
   "outputs": [
    {
     "data": {
      "text/plain": [
       "Text(0, 0.5, 'Silhouette Score')"
      ]
     },
     "execution_count": 10,
     "metadata": {},
     "output_type": "execute_result"
    },
    {
     "data": {
      "image/png": "[encoded data removed]",
      "text/plain": [
       "<Figure size 720x576 with 1 Axes>"
      ]
     },
     "metadata": {
      "needs_background": "light"
     },
     "output_type": "display_data"
    }
   ],
   "source": [
    "import matplotlib.pyplot as plt\n",
    "fig, ax = plt.subplots(1,1, figsize =(10,8))\n",
    "ax.plot(range(2,11),silhouette_scores)\n",
    "ax.set_xlabel('Number of Clusters')\n",
    "ax.set_ylabel('Silhouette Score')"
   ]
  },
  {
   "cell_type": "code",
   "execution_count": 12,
   "id": "90dfcaf7",
   "metadata": {},
   "outputs": [],
   "source": [
    "KMeans_=KMeans(featuresCol='caesarian_features', k=3) \n",
    "KMeans_Model=KMeans_.fit(assembled_data)\n",
    "KMeans_Assignments=KMeans_Model.transform(assembled_data)"
   ]
  },
  {
   "cell_type": "code",
   "execution_count": 13,
   "id": "37e0bdd7",
   "metadata": {},
   "outputs": [],
   "source": [
    "from pyspark.ml.feature import PCA as PCAml\n",
    "pca = PCAml(k=2, inputCol=\"caesarian_features\", outputCol=\"pca\")\n",
    "pca_model = pca.fit(assembled_data)\n",
    "pca_transformed = pca_model.transform(assembled_data)"
   ]
  },
  {
   "cell_type": "code",
   "execution_count": 14,
   "id": "6381c0c6",
   "metadata": {},
   "outputs": [],
   "source": [
    "import numpy as np\n",
    "x_pca = np.array(pca_transformed.rdd.map(lambda row: row.pca).collect())"
   ]
  },
  {
   "cell_type": "code",
   "execution_count": 15,
   "id": "b215c52d",
   "metadata": {},
   "outputs": [],
   "source": [
    "cluster_assignment = np.array(KMeans_Assignments.rdd.map(lambda row: row.prediction).collect()).reshape(-1,1)"
   ]
  },
  {
   "cell_type": "code",
   "execution_count": 17,
   "id": "1f8585ee",
   "metadata": {},
   "outputs": [
    {
     "data": {
      "image/png": "[encoded data removed]",
      "text/plain": [
       "<Figure size 537.375x432 with 1 Axes>"
      ]
     },
     "metadata": {
      "needs_background": "light"
     },
     "output_type": "display_data"
    }
   ],
   "source": [
    "import seaborn as sns\n",
    "import matplotlib.pyplot as plt\n",
    "\n",
    "pca_data = np.hstack((x_pca,cluster_assignment))\n",
    "\n",
    "pca_df = pd.DataFrame(data=pca_data, columns=(\"1st_principal\", \"2nd_principal\",\"cluster_assignment\"))\n",
    "sns.FacetGrid(pca_df,hue=\"cluster_assignment\", height=6).map(plt.scatter, '1st_principal', '2nd_principal' ).add_legend()\n",
    "\n",
    "plt.show()"
   ]
  },
  {
   "cell_type": "code",
   "execution_count": null,
   "id": "ce9d4263",
   "metadata": {},
   "outputs": [],
   "source": []
  }
 ],
 "metadata": {
  "kernelspec": {
   "display_name": "bigdata",
   "language": "python",
   "name": "bigdata"
  },
  "language_info": {
   "codemirror_mode": {
    "name": "ipython",
    "version": 3
   },
   "file_extension": ".py",
   "mimetype": "text/x-python",
   "name": "python",
   "nbconvert_exporter": "python",
   "pygments_lexer": "ipython3",
   "version": "3.7.13"
  }
 },
 "nbformat": 4,
 "nbformat_minor": 5
}
